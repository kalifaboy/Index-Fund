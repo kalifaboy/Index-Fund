{
 "cells": [
  {
   "cell_type": "code",
   "execution_count": 27,
   "metadata": {},
   "outputs": [],
   "source": [
    "import pandas as pd\n",
    "import cplex\n",
    "from cplex.exceptions import CplexError\n",
    "from collections import Iterable\n",
    "import sys"
   ]
  },
  {
   "cell_type": "code",
   "execution_count": 2,
   "metadata": {},
   "outputs": [],
   "source": [
    "# Reading the data\n",
    "#CAC40 = pd.read_excel('./data_if/CAC40.xlsx', index_col = 'Date')\n",
    "#dowjones = pd.read_excel('./data_if/dowjones.xlsx', index_col = 'Date')\n",
    "CAC40 = pd.read_excel('./data_if/CAC40.xlsx').drop(columns = ['Date'])\n",
    "dowjones = pd.read_excel('./data_if/dowjones.xlsx').drop(columns = ['Date'])"
   ]
  },
  {
   "cell_type": "code",
   "execution_count": 3,
   "metadata": {},
   "outputs": [],
   "source": [
    "# Compute returns\n",
    "def compute_returns(df):\n",
    "    returns = pd.DataFrame(data = [])\n",
    "    l = len(df)\n",
    "    for asset in df:\n",
    "        for t in range(1, l):\n",
    "            returns.at[t - 1, asset] = (df.at[t, asset] - df.at[t - 1, asset]) / df.at[t - 1, asset]\n",
    "    return returns"
   ]
  },
  {
   "cell_type": "code",
   "execution_count": 6,
   "metadata": {},
   "outputs": [],
   "source": [
    "def flatten(iterable):\n",
    "    for el in iterable:\n",
    "        if isinstance(el, Iterable) and not isinstance(el, str): \n",
    "            yield from flatten(el)\n",
    "        else:\n",
    "            yield el"
   ]
  },
  {
   "cell_type": "code",
   "execution_count": 7,
   "metadata": {},
   "outputs": [],
   "source": [
    "def setProblemData(p, index_cor, q):\n",
    "    \n",
    "    dim = index_cor.shape[0]\n",
    "    p.objective.set_sense(p.objective.sense.maximize)\n",
    "    # define colnames\n",
    "    X = [[\"x_{}_{}\".format(i, j) for j in range(1, dim + 1)] for i in range(1, dim + 1)]\n",
    "    Y = [\"y_{}\".format(i) for i in range(1, dim + 1)]\n",
    "    \n",
    "    cor_values = index_cor.values.flatten().tolist()\n",
    "    # add x_i_j\n",
    "    my_ub = [1] * dim * dim\n",
    "    my_lb = [0] * dim * dim\n",
    "    p.variables.add(obj = cor_values,  names = list(flatten(X)),\n",
    "                    ub = my_ub, lb = my_lb)\n",
    "    # add y_i_j\n",
    "    my_ub = [1] * dim\n",
    "    my_lb = [0] * dim\n",
    "    p.variables.add(obj = [0] * dim,  names = Y, ub = my_ub, lb = my_lb)\n",
    "    # add q constraint\n",
    "    senses = \"E\"\n",
    "    rhs = [q]\n",
    "    rows = [[Y, [1] * dim]]\n",
    "    for i in range(dim):\n",
    "        rows.append([X[i], [1] * dim])\n",
    "        senses += \"E\"\n",
    "        rhs.append(1)\n",
    "    \n",
    "    for i in range(dim):\n",
    "        for j in range(dim):\n",
    "            rows.append([[X[i][j], Y[j]], [1, -1]])\n",
    "            senses += \"L\"\n",
    "            rhs.append(0)\n",
    "    #print(rows)\n",
    "    \n",
    "    p.linear_constraints.add(lin_expr = rows, senses = senses, rhs = rhs)"
   ]
  },
  {
   "cell_type": "code",
   "execution_count": 25,
   "metadata": {},
   "outputs": [],
   "source": [
    "def select_assets(index, q):\n",
    "    try:\n",
    "        index = compute_returns(index)\n",
    "        index_cov = index.cov()\n",
    "        index_cor = index.corr()\n",
    "        p = cplex.Cplex()\n",
    "        setProblemData(p, index_cor, q)\n",
    "        p.solve()\n",
    "        \n",
    "        numrows = p.linear_constraints.get_num()\n",
    "        numcols = p.variables.get_num()\n",
    "    \n",
    "        print(\"solution status : {} : {}\".format(p.solution.get_status(), \n",
    "                                             p.solution.status[p.solution.get_status()]))\n",
    "        print(\"solution value : {}\".format(p.solution.get_objective_value()))\n",
    "        slack = p.solution.get_linear_slacks()\n",
    "        pi    = p.solution.get_dual_values()\n",
    "        x     = p.solution.get_values()\n",
    "        dj = p.solution.get_reduced_costs()\n",
    "        #print(\"type x --> :\", type(x))\n",
    "        x = x[-index_cor.shape[0]:]\n",
    "    \n",
    "        assets = index.columns\n",
    "        chosen_assets = []\n",
    "    \n",
    "        for i in range(len(x)):\n",
    "            if x[i] == 1.0:\n",
    "                #print(\"asset : \", assets[i])\n",
    "                chosen_assets.append(assets[i])\n",
    "        \"\"\"for i in range(numrows):\n",
    "            print (\"Row %d:  Slack = %10f  Pi = %10f\" % (i, slack[i], pi[i]))\"\"\"\n",
    "        \"\"\"for j in range(numcols):\n",
    "            print (\"Column %d:  Value = %10f Reduced cost = %10f\" % (j, x[j], dj[j]))\"\"\"\n",
    "    \n",
    "        return chosen_assets\n",
    "    except CplexError as exc:\n",
    "        print (exc)"
   ]
  },
  {
   "cell_type": "code",
   "execution_count": 29,
   "metadata": {},
   "outputs": [
    {
     "name": "stderr",
     "output_type": "stream",
     "text": [
      "/usr/local/lib/python3.6/dist-packages/ipykernel_launcher.py:7: RuntimeWarning: divide by zero encountered in double_scalars\n",
      "  import sys\n",
      "/usr/local/lib/python3.6/dist-packages/ipykernel_launcher.py:7: RuntimeWarning: invalid value encountered in double_scalars\n",
      "  import sys\n"
     ]
    },
    {
     "name": "stdout",
     "output_type": "stream",
     "text": [
      "CPXPARAM_Read_DataCheck                          1\n",
      "Tried aggregator 1 time.\n",
      "No LP presolve or aggregator reductions.\n",
      "Presolve time = 0.01 sec. (0.43 ticks)\n",
      "Initializing dual steep norms . . .\n",
      "\n",
      "Iteration log . . .\n",
      "Iteration:     1   Dual objective     =            30.000000\n",
      "Iteration:    82   Dual objective     =             6.287661\n",
      "Iteration:   149   Dual objective     =             6.230934\n",
      "solution status : 1 : optimal\n",
      "solution value : 6.229597061716615\n"
     ]
    },
    {
     "data": {
      "text/plain": [
       "['CA', 'CS', 'EN', 'MC', 'SU']"
      ]
     },
     "execution_count": 29,
     "metadata": {},
     "output_type": "execute_result"
    }
   ],
   "source": [
    "select_assets(CAC40, 5)"
   ]
  },
  {
   "cell_type": "code",
   "execution_count": null,
   "metadata": {},
   "outputs": [],
   "source": []
  }
 ],
 "metadata": {
  "kernelspec": {
   "display_name": "Python 3",
   "language": "python",
   "name": "python3"
  },
  "language_info": {
   "codemirror_mode": {
    "name": "ipython",
    "version": 3
   },
   "file_extension": ".py",
   "mimetype": "text/x-python",
   "name": "python",
   "nbconvert_exporter": "python",
   "pygments_lexer": "ipython3",
   "version": "3.6.7"
  }
 },
 "nbformat": 4,
 "nbformat_minor": 2
}

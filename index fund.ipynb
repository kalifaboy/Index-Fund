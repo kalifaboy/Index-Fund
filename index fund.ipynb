{
 "cells": [
  {
   "cell_type": "code",
   "execution_count": 96,
   "metadata": {},
   "outputs": [],
   "source": [
    "import pandas as pd\n",
    "import cplex\n",
    "from cplex.exceptions import CplexError\n",
    "from collections import Iterable\n",
    "import sys\n",
    "import numpy as np"
   ]
  },
  {
   "cell_type": "code",
   "execution_count": 97,
   "metadata": {},
   "outputs": [],
   "source": [
    "# Reading the data\n",
    "CAC40 = pd.read_excel('./data_if/CAC40.xlsx').drop(columns = ['Date'])\n",
    "dowjones = pd.read_excel('./data_if/dowjones.xlsx').drop(columns = ['Date'])"
   ]
  },
  {
   "cell_type": "code",
   "execution_count": 98,
   "metadata": {},
   "outputs": [],
   "source": [
    "# Compute returns\n",
    "def compute_returns(df):\n",
    "    returns = pd.DataFrame(data = [])\n",
    "    l = df.shape[0]\n",
    "    for asset in df:\n",
    "        for t in range(1, l):\n",
    "            returns.at[t - 1, asset] = (df.at[t, asset] - df.at[t - 1, asset]) / df.at[t - 1, asset]\n",
    "    return returns"
   ]
  },
  {
   "cell_type": "code",
   "execution_count": 99,
   "metadata": {},
   "outputs": [],
   "source": [
    "def flatten(iterable):\n",
    "    for el in iterable:\n",
    "        if isinstance(el, Iterable) and not isinstance(el, str): \n",
    "            yield from flatten(el)\n",
    "        else:\n",
    "            yield el"
   ]
  },
  {
   "cell_type": "code",
   "execution_count": 100,
   "metadata": {},
   "outputs": [],
   "source": [
    "def setProblemData(p, index_cor, q):\n",
    "    \n",
    "    dim = index_cor.shape[0]\n",
    "    p.objective.set_sense(p.objective.sense.maximize)\n",
    "    # define colnames\n",
    "    X = [[\"x_{}_{}\".format(i, j) for j in range(1, dim + 1)] for i in range(1, dim + 1)]\n",
    "    Y = [\"y_{}\".format(i) for i in range(1, dim + 1)]\n",
    "    \n",
    "    cor_values = index_cor.values.flatten().tolist()\n",
    "    # add x_i_j\n",
    "    my_ub = [1] * dim * dim\n",
    "    my_lb = [0] * dim * dim\n",
    "    p.variables.add(obj = cor_values,  names = list(flatten(X)),\n",
    "                    ub = my_ub, lb = my_lb)\n",
    "    # add y_i_j\n",
    "    my_ub = [1] * dim\n",
    "    my_lb = [0] * dim\n",
    "    p.variables.add(obj = [0] * dim,  names = Y, ub = my_ub, lb = my_lb)\n",
    "    # add q constraint\n",
    "    senses = \"E\"\n",
    "    rhs = [q]\n",
    "    rows = [[Y, [1] * dim]]\n",
    "    for i in range(dim):\n",
    "        rows.append([X[i], [1] * dim])\n",
    "        senses += \"E\"\n",
    "        rhs.append(1)\n",
    "    \n",
    "    for i in range(dim):\n",
    "        for j in range(dim):\n",
    "            rows.append([[X[i][j], Y[j]], [1, -1]])\n",
    "            senses += \"L\"\n",
    "            rhs.append(0)\n",
    "    #print(rows)\n",
    "    \n",
    "    p.linear_constraints.add(lin_expr = rows, senses = senses, rhs = rhs)"
   ]
  },
  {
   "cell_type": "code",
   "execution_count": 101,
   "metadata": {},
   "outputs": [],
   "source": [
    "def select_assets(index, q):\n",
    "    try:\n",
    "        index = compute_returns(index)\n",
    "        index_cov = index.cov()\n",
    "        index_cor = index.corr()\n",
    "        p = cplex.Cplex()\n",
    "        setProblemData(p, index_cor, q)\n",
    "        p.solve()\n",
    "        \n",
    "        numrows = p.linear_constraints.get_num()\n",
    "        numcols = p.variables.get_num()\n",
    "    \n",
    "        print(\"solution status : {} : {}\".format(p.solution.get_status(), \n",
    "                                             p.solution.status[p.solution.get_status()]))\n",
    "        print(\"solution value : {}\".format(p.solution.get_objective_value()))\n",
    "        slack = p.solution.get_linear_slacks()\n",
    "        pi    = p.solution.get_dual_values()\n",
    "        x     = p.solution.get_values()\n",
    "        dj = p.solution.get_reduced_costs()\n",
    "        #print(\"type x --> :\", type(x))\n",
    "        x = x[-index_cor.shape[0]:]\n",
    "    \n",
    "        assets = index.columns\n",
    "        chosen_assets = []\n",
    "    \n",
    "        for i in range(len(x)):\n",
    "            if x[i] == 1.0:\n",
    "                #print(\"asset : \", assets[i])\n",
    "                chosen_assets.append(assets[i])\n",
    "        \"\"\"for i in range(numrows):\n",
    "            print (\"Row %d:  Slack = %10f  Pi = %10f\" % (i, slack[i], pi[i]))\"\"\"\n",
    "        \"\"\"for j in range(numcols):\n",
    "            print (\"Column %d:  Value = %10f Reduced cost = %10f\" % (j, x[j], dj[j]))\"\"\"\n",
    "    \n",
    "        return chosen_assets\n",
    "    except CplexError as exc:\n",
    "        print (exc)"
   ]
  },
  {
   "cell_type": "code",
   "execution_count": 102,
   "metadata": {},
   "outputs": [
    {
     "name": "stdout",
     "output_type": "stream",
     "text": [
      "CPXPARAM_Read_DataCheck                          1\n",
      "Tried aggregator 1 time.\n",
      "No LP presolve or aggregator reductions.\n",
      "Presolve time = 0.02 sec. (0.43 ticks)\n",
      "Initializing dual steep norms . . .\n",
      "\n",
      "Iteration log . . .\n",
      "Iteration:     1   Dual objective     =            30.000000\n",
      "Iteration:    73   Dual objective     =            22.887115\n",
      "Iteration:   155   Dual objective     =            20.417147\n",
      "solution status : 1 : optimal\n",
      "solution value : 20.308610169825496\n"
     ]
    }
   ],
   "source": [
    "my_assets = select_assets(CAC40, 5)\n",
    "print(my_assets)"
   ]
  },
  {
   "cell_type": "code",
   "execution_count": 103,
   "metadata": {},
   "outputs": [],
   "source": [
    "# Transform a matrix to a list\n",
    "def matrixToList(Mat):\n",
    "    MatList = []\n",
    "    for i in range(Mat.shape[1]):\n",
    "        MatList.append([range(Mat.shape[1]), (Mat[i]).tolist()])\n",
    "    return MatList"
   ]
  },
  {
   "cell_type": "code",
   "execution_count": 104,
   "metadata": {},
   "outputs": [],
   "source": [
    "# Function to compute geometric mean of assets\n",
    "def geometric_mean(df):\n",
    "    df = df.replace([np.inf, -np.inf], np.nan).dropna()\n",
    "    L = []\n",
    "    l = df.shape[0]\n",
    "    for asset in df:\n",
    "        p = 1\n",
    "        T = 0\n",
    "        for t in range(0, l):\n",
    "            T += 1\n",
    "            p *= (1 + df.at[t, asset])\n",
    "        L.append(pow(p, 1/T) - 1)\n",
    "        #print(L)\n",
    "    return L"
   ]
  },
  {
   "cell_type": "code",
   "execution_count": 105,
   "metadata": {},
   "outputs": [],
   "source": [
    "# Apply Markowitz optimization to our chosen assets by the previous model\n",
    "def markowitz(index, assets_list, R):\n",
    "    data = index[assets_list]\n",
    "    data_cov = data.cov()\n",
    "    data_returns = compute_returns(data)\n",
    "    gmean_returns = geometric_mean(data_returns)\n",
    "    print(\"Asset geometric returns : \",gmean_returns)\n",
    "    n = len(assets_list)\n",
    "    \n",
    "    X = [\"x_{}\".format(i + 1) for i in range(n)]\n",
    "    \n",
    "    qmat = matrixToList(data_cov.values)\n",
    "    #print(qmat)\n",
    "    \n",
    "    try:\n",
    "    \n",
    "        p = cplex.Cplex()\n",
    "\n",
    "        p.set_problem_name(\"Markowitz Portfolio Optimization\")\n",
    "        p.objective.set_sense(p.objective.sense.minimize)\n",
    "        p.variables.add( names = X)\n",
    "        p.objective.set_quadratic(qmat)\n",
    "\n",
    "        rows = [[X, [1] * n]]\n",
    "        rows.append([X, gmean_returns])\n",
    "\n",
    "        p.linear_constraints.add(lin_expr = rows, senses = \"EG\", rhs = [1, R])\n",
    "\n",
    "        p.solve()\n",
    "        \n",
    "        numrows = p.linear_constraints.get_num()\n",
    "        numcols = p.variables.get_num()\n",
    "    \n",
    "        print(\"solution status : {} : {}\".format(p.solution.get_status(), \n",
    "                                             p.solution.status[p.solution.get_status()]))\n",
    "        print(\"solution value : {}\".format(p.solution.get_objective_value()))\n",
    "        slack = p.solution.get_linear_slacks()\n",
    "        pi    = p.solution.get_dual_values()\n",
    "        x     = p.solution.get_values()\n",
    "        dj = p.solution.get_reduced_costs()\n",
    "        print(\"PORTFOLIO COMPOSITION --> :\", x)\n",
    "    \n",
    "        \"\"\"for i in range(numrows):\n",
    "            print (\"Row %d:  Slack = %10f  Pi = %10f\" % (i, slack[i], pi[i]))\"\"\"\n",
    "        \"\"\"for j in range(numcols):\n",
    "            print (\"Column %d:  Value = %10f Reduced cost = %10f\" % (j, x[j], dj[j]))\"\"\"\n",
    "    \n",
    "    except CplexError as exc:\n",
    "        print (exc)"
   ]
  },
  {
   "cell_type": "code",
   "execution_count": 106,
   "metadata": {},
   "outputs": [
    {
     "name": "stdout",
     "output_type": "stream",
     "text": [
      "Asset geometric returns :  [0.00043680764285980445, 0.00015504168638025284, 0.0002807003844871314, 0.00043412028618616816, 0.0002106388948139859]\n",
      "CPXPARAM_Read_DataCheck                          1\n",
      "Number of nonzeros in lower triangle of Q = 10\n",
      "Using Approximate Minimum Degree ordering\n",
      "Total time for automatic ordering = 0.01 sec. (0.00 ticks)\n",
      "Summary statistics for factor of Q:\n",
      "  Rows in Factor            = 5\n",
      "  Integer space required    = 5\n",
      "  Total non-zeros in factor = 15\n",
      "  Total FP ops to factor    = 55\n",
      "Tried aggregator 1 time.\n",
      "QP Presolve added 0 rows and 5 columns.\n",
      "Reduced QP has 7 rows, 10 columns, and 30 nonzeros.\n",
      "Reduced QP objective Q matrix has 5 nonzeros.\n",
      "Presolve time = 0.04 sec. (0.00 ticks)\n",
      "Parallel mode: none, using 1 thread for barrier\n",
      "Number of nonzeros in lower triangle of A*A' = 21\n",
      "Using Approximate Minimum Degree ordering\n",
      "Total time for automatic ordering = 0.02 sec. (0.00 ticks)\n",
      "Summary statistics for Cholesky factor:\n",
      "  Rows in Factor            = 7\n",
      "  Integer space required    = 7\n",
      "  Total non-zeros in factor = 28\n",
      "  Total FP ops to factor    = 140\n",
      " Itn      Primal Obj        Dual Obj  Prim Inf Upper Inf  Dual Inf          \n",
      "   0   4.1816564e+01  -4.1816564e+01  1.44e+02  0.00e+00  6.23e+03\n",
      "   1   1.3217560e+02  -8.6157314e+02  4.54e+00  0.00e+00  1.96e+02\n",
      "   2   7.2206255e+01  -3.1675044e+02  2.30e-15  0.00e+00  3.98e-13\n",
      "   3   6.2822520e+01  -4.2148374e+00  8.88e-16  0.00e+00  2.48e-13\n",
      "   4   3.6286635e+01   1.7424772e+01  1.92e-15  0.00e+00  2.66e-14\n",
      "   5   3.4036623e+01   3.3620092e+01  7.49e-16  0.00e+00  2.38e-14\n",
      "   6   3.3892298e+01   3.3823081e+01  1.19e-15  0.00e+00  1.73e-13\n",
      "   7   3.3863892e+01   3.3852373e+01  1.94e-15  0.00e+00  7.69e-14\n",
      "   8   3.3859101e+01   3.3857181e+01  2.28e-15  0.00e+00  1.05e-13\n",
      "   9   3.3858301e+01   3.3857981e+01  2.89e-15  0.00e+00  1.54e-13\n",
      "  10   3.3858168e+01   3.3858114e+01  3.08e-15  0.00e+00  6.18e-14\n",
      "  11   3.3858146e+01   3.3858137e+01  2.14e-15  0.00e+00  1.24e-13\n",
      "  12   3.3858142e+01   3.3858140e+01  1.80e-15  0.00e+00  9.39e-14\n",
      "  13   3.3858141e+01   3.3858141e+01  2.16e-15  0.00e+00  6.53e-14\n",
      "Barrier time = 0.26 sec. (0.06 ticks)\n",
      "\n",
      "Total time on 1 threads = 0.27 sec. (0.06 ticks)\n",
      "solution status : 1 : optimal\n",
      "solution value : 33.858141185482935\n",
      "PORTFOLIO COMPOSITION --> : [0.22540408659388986, 5.294870480829923e-10, 0.5522492587243557, 0.22234665350781788, 6.444506415604007e-10]\n"
     ]
    }
   ],
   "source": [
    "markowitz(CAC40, my_assets, 0.00035)"
   ]
  },
  {
   "cell_type": "code",
   "execution_count": null,
   "metadata": {},
   "outputs": [],
   "source": []
  }
 ],
 "metadata": {
  "kernelspec": {
   "display_name": "Python 3",
   "language": "python",
   "name": "python3"
  },
  "language_info": {
   "codemirror_mode": {
    "name": "ipython",
    "version": 3
   },
   "file_extension": ".py",
   "mimetype": "text/x-python",
   "name": "python",
   "nbconvert_exporter": "python",
   "pygments_lexer": "ipython3",
   "version": "3.6.7"
  }
 },
 "nbformat": 4,
 "nbformat_minor": 2
}
